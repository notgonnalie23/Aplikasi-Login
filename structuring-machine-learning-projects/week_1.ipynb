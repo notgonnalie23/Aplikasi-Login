{
  "nbformat": 4,
  "nbformat_minor": 0,
  "metadata": {
    "colab": {
      "provenance": [],
      "authorship_tag": "ABX9TyNceRHxwRawDSzmNmKdRZmX",
      "include_colab_link": true
    },
    "kernelspec": {
      "name": "python3",
      "display_name": "Python 3"
    },
    "language_info": {
      "name": "python"
    }
  },
  "cells": [
    {
      "cell_type": "markdown",
      "metadata": {
        "id": "view-in-github",
        "colab_type": "text"
      },
      "source": [
        "<a href=\"https://colab.research.google.com/github/notgonnalie23/Aplikasi-Login/blob/main/structuring-machine-learning-projects/week_1.ipynb\" target=\"_parent\"><img src=\"https://colab.research.google.com/assets/colab-badge.svg\" alt=\"Open In Colab\"/></a>"
      ]
    },
    {
      "cell_type": "markdown",
      "source": [
        "## Structuring Machine Learning Projects\n",
        "---\n",
        "#### Single Number Evaluation Metric\n",
        "* buat membandingkan ide baru sama ide lama mana yang lebih baik atau buruk\n",
        "* ada precision and recall\n",
        "* presicision itu contoh - contoh (examples) dari classifier yang teridentifikasi (recognizes) as cats\n",
        "* precision = what % actually are cats ?\n",
        "* misal classifier A punya precision 95% berarti ada peluang 95% bakal prediksi kucing\n",
        "* recall = berapa persen prediksi yang bener (correctly) teridentifikasi (recognizes) sebagai kucing ?\n",
        "* sering ada tradeoff diantara keduanya\n",
        ">Masalah kalo make precision recall buat evaluasi metrik :\n",
        "* kalo misalkan classifier A lebih bagus di recall terus classifier B lebih bagus di precision nanti jadi bingung atau gak yakin mana classifier yang lebih baik\n",
        "* kalo ada masalah ini mending gak cuma nyoba 2 classifier aja, mungkin bisa puluhan classifier (A,B,C,...) terus baru nentuin mana yang paling bagus (best ones)\n",
        "* Kalo pake dua evaluasi metrik (precision and recall) jadi sulit juga buat nentuin mana yang paling bagus\n",
        "* solusinya pake evaluasi metrik yang baru yang menggabungkan (combines) precision and recall namanya F1 Score\n",
        "* F1 Score = average of precision (P) and recall (R)\n",
        "* pake persamaan dibawah ini (harmonic mean of precision P and recall R equation) :\n",
        "$$ F1\\space Score = \\frac{2}{\\frac{1}{P} + \\frac{1}{R}} $$\n",
        "* single number evalution metric biasa disebut juga single row number\n",
        "* Evaluation metric bisa kasih tau secara cepat kalo classifier A or classifier B is better"
      ],
      "metadata": {
        "id": "LC7TassuY6IJ"
      }
    }
  ]
}